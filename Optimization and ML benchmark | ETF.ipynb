{
 "cells": [
  {
   "cell_type": "code",
   "execution_count": 1,
   "metadata": {},
   "outputs": [],
   "source": [
    "import warnings\n",
    "warnings.filterwarnings('ignore')\n",
    "\n",
    "from keras.layers import Input, Dense, Flatten, Dropout\n",
    "from keras.models import Model\n",
    "\n",
    "import numpy as np\n",
    "import pandas as pd\n",
    "import os\n",
    "\n",
    "import random\n",
    "from collections import deque\n",
    "import matplotlib.pylab as plt\n",
    "\n",
    "from sklearn.decomposition import PCA"
   ]
  },
  {
   "cell_type": "code",
   "execution_count": 2,
   "metadata": {},
   "outputs": [],
   "source": [
    "# TODO: add other metrics: returns, volatility, alpha, beta to the benchmark"
   ]
  },
  {
   "cell_type": "markdown",
   "metadata": {},
   "source": [
    "# Imports of classes"
   ]
  },
  {
   "cell_type": "code",
   "execution_count": 3,
   "metadata": {},
   "outputs": [],
   "source": [
    "from environment import ETFEnvironment, CryptoEnvironment\n",
    "from agent import MinVarianceAgent, MaxSharpeAgent, MaxDecorrelationAgent, MaxReturnsAgent\n",
    "from utils import *"
   ]
  },
  {
   "cell_type": "code",
   "execution_count": 4,
   "metadata": {},
   "outputs": [],
   "source": [
    "N_ASSETS = 53\n",
    "WINDOW_FIT = 180\n",
    "WINDOW_HOLD = 180\n",
    "env = ETFEnvironment()"
   ]
  },
  {
   "cell_type": "code",
   "execution_count": 5,
   "metadata": {},
   "outputs": [],
   "source": [
    "agent_max_returns = MaxReturnsAgent(N_ASSETS, allow_short=True)\n",
    "agent_minvar = MinVarianceAgent(N_ASSETS, allow_short=True)\n",
    "agent_maxsharpe = MaxSharpeAgent(N_ASSETS, allow_short=True)\n",
    "agent_maxdecorr = MaxDecorrelationAgent(N_ASSETS, allow_short=True)"
   ]
  },
  {
   "cell_type": "markdown",
   "metadata": {},
   "source": [
    "# Reweighting process: optimization"
   ]
  },
  {
   "cell_type": "code",
   "execution_count": null,
   "metadata": {
    "scrolled": true
   },
   "outputs": [],
   "source": [
    "actions_equal, actions_returns, actions_minvar, actions_maxsharpe, actions_maxdecorr = [], [], [], [], []\n",
    "result_equal, result_returns, result_minvar, result_maxsharpe, result_maxdecorr = [], [], [], [], []\n",
    "\n",
    "for i in range(WINDOW_FIT, len(env.data), WINDOW_HOLD):\n",
    "    \n",
    "    state = env.get_state(i, WINDOW_FIT, is_cov_matrix=False)\n",
    "    \n",
    "    action_equal = np.ones(N_ASSETS) / N_ASSETS\n",
    "    action_minvar = agent_minvar.act(state)\n",
    "    action_max_returns = agent_max_returns.act(state)\n",
    "    action_maxsharpe = agent_maxsharpe.act(state)\n",
    "    action_maxdecorr = agent_maxdecorr.act(state)\n",
    " \n",
    "    state_action = env.get_state(i+WINDOW_HOLD, WINDOW_HOLD, is_cov_matrix=False)\n",
    "    \n",
    "    r = np.dot(state_action, action_equal)\n",
    "    result_equal.append(r.tolist())\n",
    "    actions_equal.append(action_equal)\n",
    "    \n",
    "    r = np.dot(state_action, action_minvar)\n",
    "    result_minvar.append(r.tolist())\n",
    "    actions_minvar.append(action_minvar)\n",
    "\n",
    "    r = np.dot(state_action, action_max_returns)\n",
    "    result_returns.append(r.tolist())\n",
    "    actions_returns.append(action_max_returns)\n",
    "    \n",
    "    r = np.dot(state_action, action_maxsharpe)\n",
    "    result_maxsharpe.append(r.tolist())\n",
    "    actions_maxsharpe.append(action_maxsharpe)\n",
    "    \n",
    "    r = np.dot(state_action, action_maxdecorr)\n",
    "    result_maxdecorr.append(r.tolist())\n",
    "    actions_maxdecorr.append(action_maxdecorr)"
   ]
  },
  {
   "cell_type": "markdown",
   "metadata": {},
   "source": [
    "# Evaluation"
   ]
  },
  {
   "cell_type": "code",
   "execution_count": null,
   "metadata": {},
   "outputs": [],
   "source": [
    "result_equal_vis = [item for sublist in result_equal for item in sublist]\n",
    "result_returns_vis = [item for sublist in result_returns for item in sublist]\n",
    "result_minvar_vis = [item for sublist in result_minvar for item in sublist]\n",
    "result_maxsharpe_vis = [item for sublist in result_maxsharpe for item in sublist]\n",
    "result_maxdecorr_vis = [item for sublist in result_maxdecorr for item in sublist]"
   ]
  },
  {
   "cell_type": "code",
   "execution_count": null,
   "metadata": {
    "scrolled": true
   },
   "outputs": [],
   "source": [
    "%matplotlib inline\n",
    "\n",
    "plt.figure()\n",
    "plt.plot(np.array(result_equal_vis).cumsum(), label = 'result_equal_vis')\n",
    "plt.plot(np.array(result_minvar_vis).cumsum(), label = \"result_minvar_vis\")\n",
    "plt.plot(np.array(result_returns_vis).cumsum(), label = \"result_returns_vis\")\n",
    "plt.plot(np.array(result_maxsharpe_vis).cumsum(), label = \"result_maxsharpe_vis\")\n",
    "plt.plot(np.array(result_maxdecorr_vis).cumsum(), label = \"result_maxdecorr_vis\")\n",
    "plt.legend([\"result_equal_vis\", \"result_minvar_vis\", \"result_returns_vis\", \"result_maxsharpe_vis\", \"result_maxdecorr_vis\"])\n",
    "plt.show()\n",
    "\n",
    "\n"
   ]
  },
  {
   "cell_type": "code",
   "execution_count": null,
   "metadata": {},
   "outputs": [],
   "source": [
    "print('EQUAL', print_stats(result_equal_vis, result_equal_vis))\n",
    "print('MINVAR', print_stats(result_minvar_vis, result_equal_vis))\n",
    "print('MAXRET', print_stats(result_returns_vis, result_equal_vis))\n",
    "print('MAXSHRAPE', print_stats(result_maxsharpe_vis, result_equal_vis))\n",
    "print('MAXDECORR', print_stats(result_maxdecorr_vis, result_equal_vis))"
   ]
  },
  {
   "cell_type": "markdown",
   "metadata": {},
   "source": [
    "# Visualization"
   ]
  },
  {
   "cell_type": "code",
   "execution_count": null,
   "metadata": {},
   "outputs": [],
   "source": [
    "import matplotlib\n",
    "current_cmap = matplotlib.cm.get_cmap()\n",
    "current_cmap.set_bad(color='red')"
   ]
  },
  {
   "cell_type": "code",
   "execution_count": null,
   "metadata": {},
   "outputs": [],
   "source": [
    "def plot_results(benchmark_series, \n",
    "                 target_series, \n",
    "                 target_balances, \n",
    "                 n_assets = N_ASSETS,\n",
    "                 columns = state.columns,\n",
    "                 name2plot = '',\n",
    "                 path2save = './',\n",
    "                 base_name_series = 'series'):\n",
    "    \n",
    "#     N = len(np.array(benchmark_series).cumsum())\n",
    "    N = len(np.array([item for sublist in benchmark_series for item in sublist]).cumsum()) \n",
    "    \n",
    "    if not os.path.exists(path2save):\n",
    "        os.makedirs(path2save)\n",
    "\n",
    "    for i in range(0, len(target_balances)):\n",
    "\n",
    "        current_range = np.arange(0, N)\n",
    "        current_ts = np.zeros(N)\n",
    "        current_ts2 = np.zeros(N)\n",
    "\n",
    "        ts_benchmark = np.array([item for sublist in benchmark_series[:i+1] for item in sublist]).cumsum()\n",
    "        ts_target = np.array([item for sublist in target_series[:i+1] for item in sublist]).cumsum()\n",
    "\n",
    "        t = len(ts_benchmark)\n",
    "        current_ts[:t] = ts_benchmark\n",
    "        current_ts2[:t] = ts_target\n",
    "\n",
    "        current_ts[current_ts == 0] = ts_benchmark[-1]\n",
    "        current_ts2[current_ts2 == 0] = ts_target[-1]\n",
    "\n",
    "        plt.figure(figsize = (12, 10))\n",
    "        \n",
    "        plt.subplot(2, 1, 1)\n",
    "        plt.bar(np.arange(n_assets), target_balances[i], color = 'grey')\n",
    "        plt.xticks(np.arange(n_assets), columns, rotation='vertical')\n",
    "\n",
    "        plt.subplot(2, 1, 2)\n",
    "        plt.colormaps = current_cmap\n",
    "        plt.plot(current_range[:t], current_ts[:t], color = 'black', label = 'Benchmark')\n",
    "        plt.plot(current_range[:t], current_ts2[:t], color = 'red', label = name2plot)\n",
    "        plt.plot(current_range[t:], current_ts[t:], ls = '--', lw = .1, color = 'black')\n",
    "        plt.autoscale(False)\n",
    "        plt.ylim([-1.5, 1.5])\n",
    "        plt.legend()\n",
    "        plt.savefig(path2save + base_name_series + str(i) + '.jpg')"
   ]
  },
  {
   "cell_type": "code",
   "execution_count": null,
   "metadata": {
    "scrolled": true
   },
   "outputs": [],
   "source": [
    "plot_results(result_equal, \n",
    "             result_maxdecorr, \n",
    "             actions_maxdecorr, \n",
    "             N_ASSETS,\n",
    "             state.columns.tolist(), \n",
    "             'Decorrelation portfolio', './images_etf/decorr/', 'series')"
   ]
  },
  {
   "cell_type": "code",
   "execution_count": null,
   "metadata": {
    "scrolled": true
   },
   "outputs": [],
   "source": [
    "plot_results(result_equal, \n",
    "             result_maxsharpe, \n",
    "             actions_maxsharpe,  \n",
    "             N_ASSETS,\n",
    "             state.columns.tolist(), \n",
    "             'Maximal Sharpe portfolio', './images_etf/sharpe/', 'series')"
   ]
  },
  {
   "cell_type": "code",
   "execution_count": null,
   "metadata": {
    "scrolled": true
   },
   "outputs": [],
   "source": [
    "plot_results(result_equal, \n",
    "             result_minvar, \n",
    "             actions_minvar,  \n",
    "             N_ASSETS,\n",
    "             state.columns.tolist(), \n",
    "             'Minimal variance portfolio', './images_etf/minvar/', 'series')"
   ]
  },
  {
   "cell_type": "code",
   "execution_count": null,
   "metadata": {
    "scrolled": true
   },
   "outputs": [],
   "source": [
    "plot_results(result_equal, \n",
    "             result_returns, \n",
    "             actions_returns,  \n",
    "             N_ASSETS,\n",
    "             state.columns.tolist(), \n",
    "             'Maximal returns portfolio', './images_etf/maxret/', 'series')"
   ]
  },
  {
   "cell_type": "markdown",
   "metadata": {},
   "source": [
    "# Reweighting process: PCA"
   ]
  },
  {
   "cell_type": "code",
   "execution_count": null,
   "metadata": {},
   "outputs": [],
   "source": [
    "from agent import PCAAgent"
   ]
  },
  {
   "cell_type": "code",
   "execution_count": null,
   "metadata": {},
   "outputs": [],
   "source": [
    "agent_pca = PCAAgent(N_ASSETS, allow_short=True, pc_id=0)"
   ]
  },
  {
   "cell_type": "code",
   "execution_count": null,
   "metadata": {
    "scrolled": false
   },
   "outputs": [],
   "source": [
    "actions_equal, actions_pca = [], []\n",
    "result_equal, result_pca = [], []\n",
    "\n",
    "for i in range(WINDOW_FIT, len(env.data), WINDOW_HOLD):\n",
    "    \n",
    "    state = env.get_state(i, WINDOW_FIT, is_cov_matrix=False)\n",
    "    \n",
    "    action_equal = np.ones(N_ASSETS) / N_ASSETS\n",
    "    action_pca = agent_pca.act(state)\n",
    " \n",
    "    state_action = env.get_state(i+WINDOW_HOLD, WINDOW_HOLD, is_cov_matrix=False)\n",
    "    \n",
    "    r = np.dot(state_action, action_equal)\n",
    "    result_equal.append(r.tolist())\n",
    "    actions_equal.append(action_equal)\n",
    "    \n",
    "    r = np.dot(state_action, action_pca)\n",
    "    result_pca.append(r.tolist())\n",
    "    actions_pca.append(action_pca)"
   ]
  },
  {
   "cell_type": "markdown",
   "metadata": {},
   "source": [
    "# Evaluation"
   ]
  },
  {
   "cell_type": "code",
   "execution_count": null,
   "metadata": {},
   "outputs": [],
   "source": [
    "result_equal_vis = [item for sublist in result_equal for item in sublist]\n",
    "result_pca_vis = [item for sublist in result_pca for item in sublist]"
   ]
  },
  {
   "cell_type": "code",
   "execution_count": null,
   "metadata": {
    "scrolled": true
   },
   "outputs": [],
   "source": [
    "plt.figure()\n",
    "plt.plot(np.array(result_equal_vis).cumsum())\n",
    "plt.plot(np.array(result_pca_vis).cumsum())\n",
    "plt.show()"
   ]
  },
  {
   "cell_type": "code",
   "execution_count": null,
   "metadata": {},
   "outputs": [],
   "source": [
    "print('EQUAL', print_stats(result_equal_vis, result_equal_vis))\n",
    "print('PCA', print_stats(result_pca_vis, result_equal_vis))"
   ]
  },
  {
   "cell_type": "markdown",
   "metadata": {},
   "source": [
    "# Visualization"
   ]
  },
  {
   "cell_type": "code",
   "execution_count": null,
   "metadata": {},
   "outputs": [],
   "source": [
    "import matplotlib\n",
    "current_cmap = matplotlib.cm.get_cmap()"
   ]
  },
  {
   "cell_type": "code",
   "execution_count": null,
   "metadata": {
    "scrolled": true
   },
   "outputs": [],
   "source": [
    "plot_results(result_equal, \n",
    "             result_pca, \n",
    "             actions_pca, \n",
    "             N_ASSETS,\n",
    "             state.columns, \n",
    "             'PCA PC0 portfolio', './images_etf/pca/', 'series')"
   ]
  },
  {
   "cell_type": "markdown",
   "metadata": {},
   "source": [
    "# Reweighting process: HRP"
   ]
  },
  {
   "cell_type": "code",
   "execution_count": null,
   "metadata": {},
   "outputs": [],
   "source": [
    "from agent import HRPAgent"
   ]
  },
  {
   "cell_type": "code",
   "execution_count": null,
   "metadata": {},
   "outputs": [],
   "source": [
    "agent_hrp = HRPAgent(N_ASSETS, allow_short=True)"
   ]
  },
  {
   "cell_type": "code",
   "execution_count": null,
   "metadata": {
    "scrolled": true
   },
   "outputs": [],
   "source": [
    "actions_equal, actions_hrp = [], []\n",
    "result_equal, result_hrp = [], []\n",
    "\n",
    "for i in range(WINDOW_FIT, len(env.data), WINDOW_HOLD):\n",
    "    \n",
    "    state = env.get_state(i, WINDOW_FIT, is_cov_matrix=False)\n",
    "    \n",
    "    action_equal = np.ones(N_ASSETS) / N_ASSETS\n",
    "    action_hrp = agent_hrp.act(state)\n",
    "\n",
    "    state_action = env.get_state(i+WINDOW_HOLD, WINDOW_HOLD, is_cov_matrix=False)\n",
    "    \n",
    "    r = np.dot(state_action, action_equal)\n",
    "    result_equal.append(r.tolist())\n",
    "    actions_equal.append(action_equal)\n",
    "    \n",
    "    r = np.dot(state_action, action_hrp)\n",
    "    result_hrp.append(r.tolist())\n",
    "    actions_hrp.append(action_hrp)"
   ]
  },
  {
   "cell_type": "code",
   "execution_count": null,
   "metadata": {},
   "outputs": [],
   "source": [
    "result_equal_vis = [item for sublist in result_equal for item in sublist]\n",
    "result_hrp_vis = [item for sublist in result_hrp for item in sublist]"
   ]
  },
  {
   "cell_type": "markdown",
   "metadata": {},
   "source": [
    "# Evaluation"
   ]
  },
  {
   "cell_type": "code",
   "execution_count": null,
   "metadata": {
    "scrolled": true
   },
   "outputs": [],
   "source": [
    "plt.figure()\n",
    "plt.plot(np.array(result_equal_vis).cumsum())\n",
    "plt.plot(np.array(result_hrp_vis).cumsum())\n",
    "plt.show()"
   ]
  },
  {
   "cell_type": "code",
   "execution_count": null,
   "metadata": {},
   "outputs": [],
   "source": [
    "print('EQUAL', print_stats(result_equal_vis, result_equal_vis))\n",
    "print('HRP', print_stats(result_hrp_vis, result_equal_vis))"
   ]
  },
  {
   "cell_type": "markdown",
   "metadata": {},
   "source": [
    "# Visualization"
   ]
  },
  {
   "cell_type": "code",
   "execution_count": null,
   "metadata": {},
   "outputs": [],
   "source": [
    "import matplotlib\n",
    "current_cmap = matplotlib.cm.get_cmap()"
   ]
  },
  {
   "cell_type": "code",
   "execution_count": null,
   "metadata": {
    "scrolled": true
   },
   "outputs": [],
   "source": [
    "plot_results(result_equal, \n",
    "             result_hrp, \n",
    "             actions_hrp, \n",
    "             N_ASSETS,\n",
    "             state.columns, \n",
    "             'HRP portfolio', './images_etf/hrp/', 'series')"
   ]
  },
  {
   "cell_type": "markdown",
   "metadata": {},
   "source": [
    "# Reweighting process: Forecasting "
   ]
  },
  {
   "cell_type": "code",
   "execution_count": null,
   "metadata": {},
   "outputs": [],
   "source": [
    "from agent import SmoothingAgent"
   ]
  },
  {
   "cell_type": "code",
   "execution_count": null,
   "metadata": {},
   "outputs": [],
   "source": [
    "agent_smooth = SmoothingAgent(N_ASSETS, allow_short=True, forecast_horizon = WINDOW_HOLD)"
   ]
  },
  {
   "cell_type": "code",
   "execution_count": null,
   "metadata": {
    "scrolled": true
   },
   "outputs": [],
   "source": [
    "actions_equal, actions_smooth = [], []\n",
    "result_equal, result_smooth = [], []\n",
    "\n",
    "for i in range(WINDOW_FIT, len(env.data), WINDOW_HOLD):\n",
    "    \n",
    "    state = env.get_state(i, WINDOW_FIT, is_cov_matrix=False, is_raw_time_series=True)\n",
    "    \n",
    "    action_equal = np.ones(N_ASSETS) / N_ASSETS\n",
    "    action_smooth = agent_smooth.act(state)\n",
    "\n",
    "    state_action = env.get_state(i+WINDOW_HOLD, WINDOW_HOLD, is_cov_matrix=False)\n",
    "    \n",
    "    r = np.dot(state_action, action_equal)\n",
    "    result_equal.append(r.tolist())\n",
    "    actions_equal.append(action_equal)\n",
    "    \n",
    "    r = np.dot(state_action, action_smooth)\n",
    "    result_smooth.append(r.tolist())\n",
    "    actions_smooth.append(action_smooth)"
   ]
  },
  {
   "cell_type": "code",
   "execution_count": null,
   "metadata": {},
   "outputs": [],
   "source": [
    "result_equal_vis = [item for sublist in result_equal for item in sublist]\n",
    "result_smooth_vis = [item for sublist in result_smooth for item in sublist]"
   ]
  },
  {
   "cell_type": "code",
   "execution_count": null,
   "metadata": {
    "scrolled": true
   },
   "outputs": [],
   "source": [
    "plt.figure()\n",
    "plt.plot(np.array(result_equal_vis).cumsum())\n",
    "plt.plot(np.array(result_smooth_vis).cumsum())\n",
    "plt.show()"
   ]
  },
  {
   "cell_type": "code",
   "execution_count": null,
   "metadata": {},
   "outputs": [],
   "source": [
    "print('EQUAL', print_stats(result_equal_vis, result_equal_vis))\n",
    "print('SMOOTHING', print_stats(result_smooth_vis, result_equal_vis))"
   ]
  },
  {
   "cell_type": "code",
   "execution_count": null,
   "metadata": {
    "scrolled": true
   },
   "outputs": [],
   "source": [
    "plot_results(result_equal, \n",
    "             result_smooth, \n",
    "             actions_smooth,\n",
    "             N_ASSETS,\n",
    "             state.columns, \n",
    "             'Holt smoothing portfolio', './images_etf/smoothing/', 'series')"
   ]
  },
  {
   "cell_type": "markdown",
   "metadata": {},
   "source": [
    "# Reweighting process: Autoencoder"
   ]
  },
  {
   "cell_type": "code",
   "execution_count": null,
   "metadata": {},
   "outputs": [],
   "source": [
    "from agent import AutoencoderAgent"
   ]
  },
  {
   "cell_type": "code",
   "execution_count": null,
   "metadata": {},
   "outputs": [],
   "source": [
    "agent_ae = AutoencoderAgent(N_ASSETS, allow_short=True, encoding_dim = 5)"
   ]
  },
  {
   "cell_type": "code",
   "execution_count": null,
   "metadata": {
    "scrolled": true
   },
   "outputs": [],
   "source": [
    "actions_equal, actions_ae = [], []\n",
    "result_equal, result_ae = [], []\n",
    "\n",
    "for i in range(WINDOW_FIT, len(env.data), WINDOW_HOLD):\n",
    "    \n",
    "    state = env.get_state(i, WINDOW_FIT, is_cov_matrix=False, is_raw_time_series=True)\n",
    "    \n",
    "    action_equal = np.ones(N_ASSETS) / N_ASSETS\n",
    "    action_ae = agent_ae.act(state)\n",
    "\n",
    "    state_action = env.get_state(i+WINDOW_HOLD, WINDOW_HOLD, is_cov_matrix=False)\n",
    "    \n",
    "    r = np.dot(state_action, action_equal)\n",
    "    result_equal.append(r.tolist())\n",
    "    actions_equal.append(action_equal)\n",
    "    \n",
    "    r = np.dot(state_action, action_ae)\n",
    "    result_ae.append(r.tolist())\n",
    "    actions_ae.append(action_ae)"
   ]
  },
  {
   "cell_type": "code",
   "execution_count": null,
   "metadata": {},
   "outputs": [],
   "source": [
    "result_equal_vis = [item for sublist in result_equal for item in sublist]\n",
    "result_ae_vis = [item for sublist in result_ae for item in sublist]"
   ]
  },
  {
   "cell_type": "code",
   "execution_count": null,
   "metadata": {
    "scrolled": true
   },
   "outputs": [],
   "source": [
    "plt.figure()\n",
    "plt.plot(np.array(result_equal_vis).cumsum())\n",
    "plt.plot(np.array(result_ae_vis).cumsum())\n",
    "plt.show()"
   ]
  },
  {
   "cell_type": "code",
   "execution_count": null,
   "metadata": {},
   "outputs": [],
   "source": [
    "print('EQUAL', print_stats(result_equal_vis, result_equal_vis))\n",
    "print('AUTOENCODER', print_stats(result_ae_vis, result_equal_vis))"
   ]
  },
  {
   "cell_type": "code",
   "execution_count": null,
   "metadata": {
    "scrolled": true
   },
   "outputs": [],
   "source": [
    "plot_results(result_equal, \n",
    "             result_ae, \n",
    "             actions_ae, \n",
    "             N_ASSETS,\n",
    "             state.columns, \n",
    "             'Autoencoder portfolio', './images_etf/ae/', 'series')"
   ]
  },
  {
   "cell_type": "markdown",
   "metadata": {},
   "source": [
    "# Making GIFs"
   ]
  },
  {
   "cell_type": "code",
   "execution_count": null,
   "metadata": {},
   "outputs": [],
   "source": [
    "import imageio\n",
    "import glob\n",
    "import os"
   ]
  },
  {
   "cell_type": "code",
   "execution_count": null,
   "metadata": {},
   "outputs": [],
   "source": [
    "name = 'decorr'"
   ]
  },
  {
   "cell_type": "code",
   "execution_count": null,
   "metadata": {},
   "outputs": [],
   "source": [
    "filenames = glob.glob('./images_etf/' + name + '/series*.jpg')"
   ]
  },
  {
   "cell_type": "code",
   "execution_count": null,
   "metadata": {},
   "outputs": [],
   "source": [
    "filenames.sort(key=lambda x: os.path.getmtime(x))"
   ]
  },
  {
   "cell_type": "code",
   "execution_count": null,
   "metadata": {},
   "outputs": [],
   "source": [
    "filenames"
   ]
  },
  {
   "cell_type": "code",
   "execution_count": null,
   "metadata": {},
   "outputs": [],
   "source": [
    "images = []\n",
    "for filename in filenames:\n",
    "    images.append(imageio.imread(filename))\n",
    "imageio.mimsave('./images_etf/' + name + '_gif.gif', images, duration=0.5)"
   ]
  },
  {
   "cell_type": "code",
   "execution_count": null,
   "metadata": {},
   "outputs": [],
   "source": []
  },
  {
   "cell_type": "code",
   "execution_count": null,
   "metadata": {},
   "outputs": [],
   "source": []
  },
  {
   "cell_type": "code",
   "execution_count": null,
   "metadata": {},
   "outputs": [],
   "source": []
  },
  {
   "cell_type": "code",
   "execution_count": null,
   "metadata": {},
   "outputs": [],
   "source": []
  },
  {
   "cell_type": "code",
   "execution_count": null,
   "metadata": {},
   "outputs": [],
   "source": []
  },
  {
   "cell_type": "code",
   "execution_count": null,
   "metadata": {},
   "outputs": [],
   "source": []
  }
 ],
 "metadata": {
  "kernelspec": {
   "display_name": "Python 3",
   "language": "python",
   "name": "python3"
  },
  "language_info": {
   "codemirror_mode": {
    "name": "ipython",
    "version": 3
   },
   "file_extension": ".py",
   "mimetype": "text/x-python",
   "name": "python",
   "nbconvert_exporter": "python",
   "pygments_lexer": "ipython3",
   "version": "3.7.7"
  }
 },
 "nbformat": 4,
 "nbformat_minor": 2
}
