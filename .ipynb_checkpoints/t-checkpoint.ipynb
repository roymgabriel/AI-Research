{
 "cells": [
  {
   "cell_type": "code",
   "execution_count": 1,
   "metadata": {},
   "outputs": [],
   "source": [
    "import numpy as np\n",
    "import pandas as pd\n",
    "\n",
    "import statsmodels.api as sm\n",
    "from statsmodels import regression\n",
    "\n",
    "import matplotlib\n",
    "import os\n",
    "\n",
    "import matplotlib.pylab as plt"
   ]
  },
  {
   "cell_type": "code",
   "execution_count": 4,
   "metadata": {},
   "outputs": [
    {
     "name": "stderr",
     "output_type": "stream",
     "text": [
      "/Users/Roy/opt/anaconda3/envs/tensorflow_env/lib/python3.7/site-packages/ipykernel_launcher.py:2: MatplotlibDeprecationWarning: You are modifying the state of a globally registered colormap. In future versions, you will not be able to modify a registered colormap in-place. To remove this warning, you can make a copy of the colormap first. cmap = copy.copy(mpl.cm.get_cmap(\"viridis\"))\n",
      "  \n"
     ]
    }
   ],
   "source": [
    "current_cmap = matplotlib.cm.get_cmap()\n",
    "current_cmap.set_bad(color='red')"
   ]
  },
  {
   "cell_type": "code",
   "execution_count": null,
   "metadata": {},
   "outputs": [],
   "source": [
    "def plot_results(benchmark_series,\n",
    "                 target_series,\n",
    "                 target_balances,\n",
    "                 n_assets,\n",
    "                 columns,\n",
    "                 name2plot = '',\n",
    "                 path2save = './',\n",
    "                 base_name_series = 'series'):\n",
    "\n",
    "#     N = len(np.array(benchmark_series).cumsum())\n",
    "    N = len(np.array([item for sublist in benchmark_series for item in sublist]).cumsum())\n",
    "\n",
    "    if not os.path.exists(path2save):\n",
    "        os.makedirs(path2save)\n",
    "\n",
    "    for i in range(0, len(target_balances)):\n",
    "\n",
    "        current_range = np.arange(0, N)\n",
    "        current_ts = np.zeros(N)\n",
    "        current_ts2 = np.zeros(N)\n",
    "\n",
    "        ts_benchmark = np.array([item for sublist in benchmark_series[:i+1] for item in sublist]).cumsum()\n",
    "        ts_target = np.array([item for sublist in target_series[:i+1] for item in sublist]).cumsum()\n",
    "\n",
    "        t = len(ts_benchmark)\n",
    "        current_ts[:t] = ts_benchmark\n",
    "        current_ts2[:t] = ts_target\n",
    "\n",
    "        current_ts[current_ts == 0] = ts_benchmark[-1]\n",
    "        current_ts2[current_ts2 == 0] = ts_target[-1]\n",
    "\n",
    "        plt.figure(figsize = (12, 10))\n",
    "\n",
    "        plt.subplot(2, 1, 1)\n",
    "        plt.bar(np.arange(n_assets), target_balances[i], color = 'grey')\n",
    "        plt.xticks(np.arange(n_assets), columns, rotation='vertical')\n",
    "\n",
    "        plt.subplot(2, 1, 2)\n",
    "        plt.colormaps = current_cmap\n",
    "        plt.plot(current_range[:t], current_ts[:t], color = 'black', label = 'Benchmark')\n",
    "        plt.plot(current_range[:t], current_ts2[:t], color = 'red', label = name2plot)\n",
    "        plt.plot(current_range[t:], current_ts[t:], ls = '--', lw = .1, color = 'black')\n",
    "        plt.autoscale(False)\n",
    "        plt.ylim([-1, 1])\n",
    "        plt.legend()\n",
    "        plt.savefig(path2save + base_name_series + str(i) + '.jpg')"
   ]
  },
  {
   "cell_type": "code",
   "execution_count": null,
   "metadata": {},
   "outputs": [],
   "source": [
    "def portfolio(returns, weights):\n",
    "    weights = np.array(weights)\n",
    "    rets = returns.mean() * 252\n",
    "    covs = returns.cov() * 252\n",
    "    P_ret = np.sum(rets * weights)\n",
    "    P_vol = np.sqrt(np.dot(weights.T, np.dot(covs, weights)))\n",
    "    P_sharpe = P_ret / P_vol\n",
    "    return np.array([P_ret, P_vol, P_sharpe])\n",
    "\n",
    "def sharpe(R):\n",
    "    r = np.diff(R)\n",
    "    sr = r.mean()/r.std() * np.sqrt(252)\n",
    "    return sr\n",
    "\n",
    "import statsmodels.api as sm\n",
    "from statsmodels import regression\n",
    "\n",
    "def print_stats(result, benchmark):\n",
    "\n",
    "    sharpe_ratio = sharpe(np.array(result).cumsum())\n",
    "    returns = np.mean(np.array(result))\n",
    "    volatility = np.std(np.array(result))\n",
    "\n",
    "    X = benchmark\n",
    "    y = result\n",
    "    x = sm.add_constant(X)\n",
    "    model = regression.linear_model.OLS(y, x).fit()\n",
    "    alpha = model.params[0]\n",
    "    beta = model.params[1]\n",
    "\n",
    "    return np.round(np.array([returns, volatility, sharpe_ratio, alpha, beta]), 4).tolist()"
   ]
  }
 ],
 "metadata": {
  "kernelspec": {
   "display_name": "Python 3",
   "language": "python",
   "name": "python3"
  },
  "language_info": {
   "codemirror_mode": {
    "name": "ipython",
    "version": 3
   },
   "file_extension": ".py",
   "mimetype": "text/x-python",
   "name": "python",
   "nbconvert_exporter": "python",
   "pygments_lexer": "ipython3",
   "version": "3.7.7"
  }
 },
 "nbformat": 4,
 "nbformat_minor": 4
}
