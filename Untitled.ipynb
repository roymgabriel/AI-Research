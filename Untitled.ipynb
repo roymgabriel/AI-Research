{
 "cells": [
  {
   "cell_type": "code",
   "execution_count": 6,
   "metadata": {},
   "outputs": [],
   "source": [
    "import warnings\n",
    "warnings.filterwarnings('ignore')\n",
    "\n",
    "from keras.layers import Input, Dense, Flatten, Dropout\n",
    "from keras.models import Model\n",
    "\n",
    "import numpy as np\n",
    "import pandas as pd\n",
    "import os\n",
    "\n",
    "import random\n",
    "from collections import deque\n",
    "import matplotlib.pylab as plt\n",
    "\n",
    "from sklearn.decomposition import PCA"
   ]
  },
  {
   "cell_type": "markdown",
   "metadata": {},
   "source": [
    "# Imports of classes"
   ]
  },
  {
   "cell_type": "code",
   "execution_count": 7,
   "metadata": {},
   "outputs": [
    {
     "ename": "ModuleNotFoundError",
     "evalue": "No module named 'environment'",
     "output_type": "error",
     "traceback": [
      "\u001b[0;31m---------------------------------------------------------------------------\u001b[0m",
      "\u001b[0;31mModuleNotFoundError\u001b[0m                       Traceback (most recent call last)",
      "\u001b[0;32m<ipython-input-7-7d2e5d79d55b>\u001b[0m in \u001b[0;36m<module>\u001b[0;34m\u001b[0m\n\u001b[0;32m----> 1\u001b[0;31m \u001b[0;32mfrom\u001b[0m \u001b[0menvironment\u001b[0m \u001b[0;32mimport\u001b[0m \u001b[0mETFEnvironment\u001b[0m\u001b[0;34m,\u001b[0m \u001b[0mCryptoEnvironment\u001b[0m\u001b[0;34m\u001b[0m\u001b[0;34m\u001b[0m\u001b[0m\n\u001b[0m\u001b[1;32m      2\u001b[0m \u001b[0;32mfrom\u001b[0m \u001b[0magent\u001b[0m \u001b[0;32mimport\u001b[0m \u001b[0mMinVarianceAgent\u001b[0m\u001b[0;34m,\u001b[0m \u001b[0mMaxSharpeAgent\u001b[0m\u001b[0;34m,\u001b[0m \u001b[0mMaxDecorrelationAgent\u001b[0m\u001b[0;34m,\u001b[0m \u001b[0mMaxReturnsAgent\u001b[0m\u001b[0;34m\u001b[0m\u001b[0;34m\u001b[0m\u001b[0m\n\u001b[1;32m      3\u001b[0m \u001b[0;32mfrom\u001b[0m \u001b[0mutils\u001b[0m \u001b[0;32mimport\u001b[0m \u001b[0;34m*\u001b[0m\u001b[0;34m\u001b[0m\u001b[0;34m\u001b[0m\u001b[0m\n",
      "\u001b[0;31mModuleNotFoundError\u001b[0m: No module named 'environment'"
     ]
    }
   ],
   "source": [
    "from environment import ETFEnvironment, CryptoEnvironment\n",
    "from agent import MinVarianceAgent, MaxSharpeAgent, MaxDecorrelationAgent, MaxReturnsAgent\n",
    "from utils import *"
   ]
  },
  {
   "cell_type": "code",
   "execution_count": 9,
   "metadata": {},
   "outputs": [
    {
     "name": "stdout",
     "output_type": "stream",
     "text": [
      "['/Users/Roy/Documents/PythonPrograms/AI-Research',\n",
      " '/Users/Roy/opt/anaconda3/envs/tensorflow_env/lib/python37.zip',\n",
      " '/Users/Roy/opt/anaconda3/envs/tensorflow_env/lib/python3.7',\n",
      " '/Users/Roy/opt/anaconda3/envs/tensorflow_env/lib/python3.7/lib-dynload',\n",
      " '',\n",
      " '/Users/Roy/opt/anaconda3/envs/tensorflow_env/lib/python3.7/site-packages',\n",
      " '/Users/Roy/opt/anaconda3/envs/tensorflow_env/lib/python3.7/site-packages/IPython/extensions',\n",
      " '/Users/Roy/.ipython']\n"
     ]
    }
   ],
   "source": [
    "from pprint import pprint\n",
    "import sys\n",
    "pprint(sys.path)"
   ]
  },
  {
   "cell_type": "code",
   "execution_count": null,
   "metadata": {},
   "outputs": [],
   "source": []
  }
 ],
 "metadata": {
  "kernelspec": {
   "display_name": "Python 3",
   "language": "python",
   "name": "python3"
  },
  "language_info": {
   "codemirror_mode": {
    "name": "ipython",
    "version": 3
   },
   "file_extension": ".py",
   "mimetype": "text/x-python",
   "name": "python",
   "nbconvert_exporter": "python",
   "pygments_lexer": "ipython3",
   "version": "3.7.7"
  }
 },
 "nbformat": 4,
 "nbformat_minor": 4
}
